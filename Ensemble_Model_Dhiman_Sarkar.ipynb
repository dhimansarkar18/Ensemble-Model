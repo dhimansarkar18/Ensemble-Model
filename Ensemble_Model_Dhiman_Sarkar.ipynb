{
  "nbformat": 4,
  "nbformat_minor": 0,
  "metadata": {
    "colab": {
      "name": "CA04_Dhiman_Sarkar.ipynb",
      "provenance": [],
      "collapsed_sections": [],
      "toc_visible": true
    },
    "kernelspec": {
      "display_name": "Python 3",
      "name": "python3"
    }
  },
  "cells": [
    {
      "cell_type": "markdown",
      "metadata": {
        "id": "BH0WdRgmzpSs"
      },
      "source": [
        "##I.Importing Packages and Modules"
      ]
    },
    {
      "cell_type": "code",
      "metadata": {
        "id": "xULY3ID_zo2O"
      },
      "source": [
        "import numpy as np\n",
        "import pandas as pd\n",
        "from google.colab import drive\n",
        "import matplotlib.pyplot as plt\n",
        "from sklearn.metrics import accuracy_score\n",
        "from sklearn.tree import DecisionTreeClassifier\n",
        "from sklearn.metrics import roc_auc_score\n",
        "from sklearn.metrics import auc\n",
        "from sklearn.ensemble import RandomForestClassifier\n",
        "from sklearn.ensemble import AdaBoostClassifier\n",
        "from sklearn.ensemble import GradientBoostingClassifier\n",
        "from sklearn import datasets\n",
        "import xgboost\n",
        "from xgboost import XGBClassifier\n",
        "from sklearn.metrics import roc_auc_score"
      ],
      "execution_count": 451,
      "outputs": []
    },
    {
      "cell_type": "markdown",
      "metadata": {
        "id": "6y2QM0CczWPl"
      },
      "source": [
        "##II.Mounting the Drive"
      ]
    },
    {
      "cell_type": "code",
      "metadata": {
        "colab": {
          "base_uri": "https://localhost:8080/"
        },
        "id": "rVNqM2tUzMOw",
        "outputId": "631aebaf-1e15-4939-d6f8-1920a779f97e"
      },
      "source": [
        "drive.mount(\"/content/drive\")"
      ],
      "execution_count": 452,
      "outputs": [
        {
          "output_type": "stream",
          "text": [
            "Drive already mounted at /content/drive; to attempt to forcibly remount, call drive.mount(\"/content/drive\", force_remount=True).\n"
          ],
          "name": "stdout"
        }
      ]
    },
    {
      "cell_type": "markdown",
      "metadata": {
        "id": "eGUZI2fq0yc3"
      },
      "source": [
        "##III. Reading the Dataset"
      ]
    },
    {
      "cell_type": "code",
      "metadata": {
        "colab": {
          "base_uri": "https://localhost:8080/",
          "height": 558
        },
        "id": "__Hly3mM02gz",
        "outputId": "d5ab751b-15b9-4656-c2f4-e81c90a5da76"
      },
      "source": [
        "census = pd.read_csv(\"/content/drive/MyDrive/MSBA_Colab_2020/ML_Algorithms/CA04/Data/census_data.csv\")\n",
        "census"
      ],
      "execution_count": 453,
      "outputs": [
        {
          "output_type": "execute_result",
          "data": {
            "text/html": [
              "<div>\n",
              "<style scoped>\n",
              "    .dataframe tbody tr th:only-of-type {\n",
              "        vertical-align: middle;\n",
              "    }\n",
              "\n",
              "    .dataframe tbody tr th {\n",
              "        vertical-align: top;\n",
              "    }\n",
              "\n",
              "    .dataframe thead th {\n",
              "        text-align: right;\n",
              "    }\n",
              "</style>\n",
              "<table border=\"1\" class=\"dataframe\">\n",
              "  <thead>\n",
              "    <tr style=\"text-align: right;\">\n",
              "      <th></th>\n",
              "      <th>hours_per_week_bin</th>\n",
              "      <th>occupation_bin</th>\n",
              "      <th>msr_bin</th>\n",
              "      <th>capital_gl_bin</th>\n",
              "      <th>race_sex_bin</th>\n",
              "      <th>education_num_bin</th>\n",
              "      <th>education_bin</th>\n",
              "      <th>workclass_bin</th>\n",
              "      <th>age_bin</th>\n",
              "      <th>flag</th>\n",
              "      <th>y</th>\n",
              "    </tr>\n",
              "  </thead>\n",
              "  <tbody>\n",
              "    <tr>\n",
              "      <th>0</th>\n",
              "      <td>b. 31-40</td>\n",
              "      <td>b. Mid - Low</td>\n",
              "      <td>b. Mid</td>\n",
              "      <td>c. &gt; 0</td>\n",
              "      <td>c. High</td>\n",
              "      <td>c. 13</td>\n",
              "      <td>c. Bachelors</td>\n",
              "      <td>b. income</td>\n",
              "      <td>d. 36-40 &amp; 56-60</td>\n",
              "      <td>train</td>\n",
              "      <td>0</td>\n",
              "    </tr>\n",
              "    <tr>\n",
              "      <th>1</th>\n",
              "      <td>a. 0-30</td>\n",
              "      <td>e. High</td>\n",
              "      <td>c. High</td>\n",
              "      <td>a. = 0</td>\n",
              "      <td>c. High</td>\n",
              "      <td>c. 13</td>\n",
              "      <td>c. Bachelors</td>\n",
              "      <td>b. income</td>\n",
              "      <td>e. 40-55</td>\n",
              "      <td>train</td>\n",
              "      <td>0</td>\n",
              "    </tr>\n",
              "    <tr>\n",
              "      <th>2</th>\n",
              "      <td>b. 31-40</td>\n",
              "      <td>a. Low</td>\n",
              "      <td>b. Mid</td>\n",
              "      <td>a. = 0</td>\n",
              "      <td>c. High</td>\n",
              "      <td>b. 9-12</td>\n",
              "      <td>b. Mid</td>\n",
              "      <td>b. income</td>\n",
              "      <td>d. 36-40 &amp; 56-60</td>\n",
              "      <td>train</td>\n",
              "      <td>0</td>\n",
              "    </tr>\n",
              "    <tr>\n",
              "      <th>3</th>\n",
              "      <td>b. 31-40</td>\n",
              "      <td>a. Low</td>\n",
              "      <td>c. High</td>\n",
              "      <td>a. = 0</td>\n",
              "      <td>b. Mid</td>\n",
              "      <td>a. 0-8</td>\n",
              "      <td>a. Low</td>\n",
              "      <td>b. income</td>\n",
              "      <td>e. 40-55</td>\n",
              "      <td>train</td>\n",
              "      <td>0</td>\n",
              "    </tr>\n",
              "    <tr>\n",
              "      <th>4</th>\n",
              "      <td>b. 31-40</td>\n",
              "      <td>e. High</td>\n",
              "      <td>c. High</td>\n",
              "      <td>a. = 0</td>\n",
              "      <td>a. Low</td>\n",
              "      <td>c. 13</td>\n",
              "      <td>c. Bachelors</td>\n",
              "      <td>b. income</td>\n",
              "      <td>b. 26-30 &amp; 71-100</td>\n",
              "      <td>train</td>\n",
              "      <td>0</td>\n",
              "    </tr>\n",
              "    <tr>\n",
              "      <th>...</th>\n",
              "      <td>...</td>\n",
              "      <td>...</td>\n",
              "      <td>...</td>\n",
              "      <td>...</td>\n",
              "      <td>...</td>\n",
              "      <td>...</td>\n",
              "      <td>...</td>\n",
              "      <td>...</td>\n",
              "      <td>...</td>\n",
              "      <td>...</td>\n",
              "      <td>...</td>\n",
              "    </tr>\n",
              "    <tr>\n",
              "      <th>48837</th>\n",
              "      <td>b. 31-40</td>\n",
              "      <td>e. High</td>\n",
              "      <td>b. Mid</td>\n",
              "      <td>a. = 0</td>\n",
              "      <td>b. Mid</td>\n",
              "      <td>c. 13</td>\n",
              "      <td>c. Bachelors</td>\n",
              "      <td>b. income</td>\n",
              "      <td>d. 36-40 &amp; 56-60</td>\n",
              "      <td>test</td>\n",
              "      <td>0</td>\n",
              "    </tr>\n",
              "    <tr>\n",
              "      <th>48838</th>\n",
              "      <td>b. 31-40</td>\n",
              "      <td>b. Mid - Low</td>\n",
              "      <td>a. Low</td>\n",
              "      <td>a. = 0</td>\n",
              "      <td>b. Mid</td>\n",
              "      <td>b. 9-12</td>\n",
              "      <td>b. Mid</td>\n",
              "      <td>a. no income</td>\n",
              "      <td>c. 31-35 &amp; 61-70</td>\n",
              "      <td>test</td>\n",
              "      <td>0</td>\n",
              "    </tr>\n",
              "    <tr>\n",
              "      <th>48839</th>\n",
              "      <td>d. 41-50 &amp; 61-70</td>\n",
              "      <td>e. High</td>\n",
              "      <td>c. High</td>\n",
              "      <td>a. = 0</td>\n",
              "      <td>c. High</td>\n",
              "      <td>c. 13</td>\n",
              "      <td>c. Bachelors</td>\n",
              "      <td>b. income</td>\n",
              "      <td>d. 36-40 &amp; 56-60</td>\n",
              "      <td>test</td>\n",
              "      <td>0</td>\n",
              "    </tr>\n",
              "    <tr>\n",
              "      <th>48840</th>\n",
              "      <td>b. 31-40</td>\n",
              "      <td>b. Mid - Low</td>\n",
              "      <td>a. Low</td>\n",
              "      <td>c. &gt; 0</td>\n",
              "      <td>c. High</td>\n",
              "      <td>c. 13</td>\n",
              "      <td>c. Bachelors</td>\n",
              "      <td>b. income</td>\n",
              "      <td>e. 40-55</td>\n",
              "      <td>test</td>\n",
              "      <td>0</td>\n",
              "    </tr>\n",
              "    <tr>\n",
              "      <th>48841</th>\n",
              "      <td>e. 51-60</td>\n",
              "      <td>e. High</td>\n",
              "      <td>c. High</td>\n",
              "      <td>a. = 0</td>\n",
              "      <td>c. High</td>\n",
              "      <td>c. 13</td>\n",
              "      <td>c. Bachelors</td>\n",
              "      <td>b. income</td>\n",
              "      <td>c. 31-35 &amp; 61-70</td>\n",
              "      <td>test</td>\n",
              "      <td>1</td>\n",
              "    </tr>\n",
              "  </tbody>\n",
              "</table>\n",
              "<p>48842 rows × 11 columns</p>\n",
              "</div>"
            ],
            "text/plain": [
              "      hours_per_week_bin occupation_bin  msr_bin  ...            age_bin   flag  y\n",
              "0               b. 31-40   b. Mid - Low   b. Mid  ...   d. 36-40 & 56-60  train  0\n",
              "1                a. 0-30        e. High  c. High  ...           e. 40-55  train  0\n",
              "2               b. 31-40         a. Low   b. Mid  ...   d. 36-40 & 56-60  train  0\n",
              "3               b. 31-40         a. Low  c. High  ...           e. 40-55  train  0\n",
              "4               b. 31-40        e. High  c. High  ...  b. 26-30 & 71-100  train  0\n",
              "...                  ...            ...      ...  ...                ...    ... ..\n",
              "48837           b. 31-40        e. High   b. Mid  ...   d. 36-40 & 56-60   test  0\n",
              "48838           b. 31-40   b. Mid - Low   a. Low  ...   c. 31-35 & 61-70   test  0\n",
              "48839   d. 41-50 & 61-70        e. High  c. High  ...   d. 36-40 & 56-60   test  0\n",
              "48840           b. 31-40   b. Mid - Low   a. Low  ...           e. 40-55   test  0\n",
              "48841           e. 51-60        e. High  c. High  ...   c. 31-35 & 61-70   test  1\n",
              "\n",
              "[48842 rows x 11 columns]"
            ]
          },
          "metadata": {
            "tags": []
          },
          "execution_count": 453
        }
      ]
    },
    {
      "cell_type": "markdown",
      "metadata": {
        "id": "qKlckNI72J6W"
      },
      "source": [
        "##IV. Data Inspection and Quality Analysis"
      ]
    },
    {
      "cell_type": "code",
      "metadata": {
        "colab": {
          "base_uri": "https://localhost:8080/",
          "height": 297
        },
        "id": "w-xIyEMQ2QvN",
        "outputId": "35c86274-15ac-4468-c8b7-d3b0b3ce1c80"
      },
      "source": [
        "# Descriptive Statistics\n",
        "census.describe()"
      ],
      "execution_count": 454,
      "outputs": [
        {
          "output_type": "execute_result",
          "data": {
            "text/html": [
              "<div>\n",
              "<style scoped>\n",
              "    .dataframe tbody tr th:only-of-type {\n",
              "        vertical-align: middle;\n",
              "    }\n",
              "\n",
              "    .dataframe tbody tr th {\n",
              "        vertical-align: top;\n",
              "    }\n",
              "\n",
              "    .dataframe thead th {\n",
              "        text-align: right;\n",
              "    }\n",
              "</style>\n",
              "<table border=\"1\" class=\"dataframe\">\n",
              "  <thead>\n",
              "    <tr style=\"text-align: right;\">\n",
              "      <th></th>\n",
              "      <th>y</th>\n",
              "    </tr>\n",
              "  </thead>\n",
              "  <tbody>\n",
              "    <tr>\n",
              "      <th>count</th>\n",
              "      <td>48842.000000</td>\n",
              "    </tr>\n",
              "    <tr>\n",
              "      <th>mean</th>\n",
              "      <td>0.239282</td>\n",
              "    </tr>\n",
              "    <tr>\n",
              "      <th>std</th>\n",
              "      <td>0.426649</td>\n",
              "    </tr>\n",
              "    <tr>\n",
              "      <th>min</th>\n",
              "      <td>0.000000</td>\n",
              "    </tr>\n",
              "    <tr>\n",
              "      <th>25%</th>\n",
              "      <td>0.000000</td>\n",
              "    </tr>\n",
              "    <tr>\n",
              "      <th>50%</th>\n",
              "      <td>0.000000</td>\n",
              "    </tr>\n",
              "    <tr>\n",
              "      <th>75%</th>\n",
              "      <td>0.000000</td>\n",
              "    </tr>\n",
              "    <tr>\n",
              "      <th>max</th>\n",
              "      <td>1.000000</td>\n",
              "    </tr>\n",
              "  </tbody>\n",
              "</table>\n",
              "</div>"
            ],
            "text/plain": [
              "                  y\n",
              "count  48842.000000\n",
              "mean       0.239282\n",
              "std        0.426649\n",
              "min        0.000000\n",
              "25%        0.000000\n",
              "50%        0.000000\n",
              "75%        0.000000\n",
              "max        1.000000"
            ]
          },
          "metadata": {
            "tags": []
          },
          "execution_count": 454
        }
      ]
    },
    {
      "cell_type": "code",
      "metadata": {
        "colab": {
          "base_uri": "https://localhost:8080/",
          "height": 275
        },
        "id": "TpypajQvXK1e",
        "outputId": "1f93f67d-312d-46a1-84f1-cc2f322939af"
      },
      "source": [
        "#First Few Rows\n",
        "census.head()"
      ],
      "execution_count": 455,
      "outputs": [
        {
          "output_type": "execute_result",
          "data": {
            "text/html": [
              "<div>\n",
              "<style scoped>\n",
              "    .dataframe tbody tr th:only-of-type {\n",
              "        vertical-align: middle;\n",
              "    }\n",
              "\n",
              "    .dataframe tbody tr th {\n",
              "        vertical-align: top;\n",
              "    }\n",
              "\n",
              "    .dataframe thead th {\n",
              "        text-align: right;\n",
              "    }\n",
              "</style>\n",
              "<table border=\"1\" class=\"dataframe\">\n",
              "  <thead>\n",
              "    <tr style=\"text-align: right;\">\n",
              "      <th></th>\n",
              "      <th>hours_per_week_bin</th>\n",
              "      <th>occupation_bin</th>\n",
              "      <th>msr_bin</th>\n",
              "      <th>capital_gl_bin</th>\n",
              "      <th>race_sex_bin</th>\n",
              "      <th>education_num_bin</th>\n",
              "      <th>education_bin</th>\n",
              "      <th>workclass_bin</th>\n",
              "      <th>age_bin</th>\n",
              "      <th>flag</th>\n",
              "      <th>y</th>\n",
              "    </tr>\n",
              "  </thead>\n",
              "  <tbody>\n",
              "    <tr>\n",
              "      <th>0</th>\n",
              "      <td>b. 31-40</td>\n",
              "      <td>b. Mid - Low</td>\n",
              "      <td>b. Mid</td>\n",
              "      <td>c. &gt; 0</td>\n",
              "      <td>c. High</td>\n",
              "      <td>c. 13</td>\n",
              "      <td>c. Bachelors</td>\n",
              "      <td>b. income</td>\n",
              "      <td>d. 36-40 &amp; 56-60</td>\n",
              "      <td>train</td>\n",
              "      <td>0</td>\n",
              "    </tr>\n",
              "    <tr>\n",
              "      <th>1</th>\n",
              "      <td>a. 0-30</td>\n",
              "      <td>e. High</td>\n",
              "      <td>c. High</td>\n",
              "      <td>a. = 0</td>\n",
              "      <td>c. High</td>\n",
              "      <td>c. 13</td>\n",
              "      <td>c. Bachelors</td>\n",
              "      <td>b. income</td>\n",
              "      <td>e. 40-55</td>\n",
              "      <td>train</td>\n",
              "      <td>0</td>\n",
              "    </tr>\n",
              "    <tr>\n",
              "      <th>2</th>\n",
              "      <td>b. 31-40</td>\n",
              "      <td>a. Low</td>\n",
              "      <td>b. Mid</td>\n",
              "      <td>a. = 0</td>\n",
              "      <td>c. High</td>\n",
              "      <td>b. 9-12</td>\n",
              "      <td>b. Mid</td>\n",
              "      <td>b. income</td>\n",
              "      <td>d. 36-40 &amp; 56-60</td>\n",
              "      <td>train</td>\n",
              "      <td>0</td>\n",
              "    </tr>\n",
              "    <tr>\n",
              "      <th>3</th>\n",
              "      <td>b. 31-40</td>\n",
              "      <td>a. Low</td>\n",
              "      <td>c. High</td>\n",
              "      <td>a. = 0</td>\n",
              "      <td>b. Mid</td>\n",
              "      <td>a. 0-8</td>\n",
              "      <td>a. Low</td>\n",
              "      <td>b. income</td>\n",
              "      <td>e. 40-55</td>\n",
              "      <td>train</td>\n",
              "      <td>0</td>\n",
              "    </tr>\n",
              "    <tr>\n",
              "      <th>4</th>\n",
              "      <td>b. 31-40</td>\n",
              "      <td>e. High</td>\n",
              "      <td>c. High</td>\n",
              "      <td>a. = 0</td>\n",
              "      <td>a. Low</td>\n",
              "      <td>c. 13</td>\n",
              "      <td>c. Bachelors</td>\n",
              "      <td>b. income</td>\n",
              "      <td>b. 26-30 &amp; 71-100</td>\n",
              "      <td>train</td>\n",
              "      <td>0</td>\n",
              "    </tr>\n",
              "  </tbody>\n",
              "</table>\n",
              "</div>"
            ],
            "text/plain": [
              "  hours_per_week_bin occupation_bin  msr_bin  ...            age_bin   flag  y\n",
              "0           b. 31-40   b. Mid - Low   b. Mid  ...   d. 36-40 & 56-60  train  0\n",
              "1            a. 0-30        e. High  c. High  ...           e. 40-55  train  0\n",
              "2           b. 31-40         a. Low   b. Mid  ...   d. 36-40 & 56-60  train  0\n",
              "3           b. 31-40         a. Low  c. High  ...           e. 40-55  train  0\n",
              "4           b. 31-40        e. High  c. High  ...  b. 26-30 & 71-100  train  0\n",
              "\n",
              "[5 rows x 11 columns]"
            ]
          },
          "metadata": {
            "tags": []
          },
          "execution_count": 455
        }
      ]
    },
    {
      "cell_type": "code",
      "metadata": {
        "colab": {
          "base_uri": "https://localhost:8080/"
        },
        "id": "9R8o28fG24Qj",
        "outputId": "63020440-f263-4f0d-b71e-7542138d9080"
      },
      "source": [
        "#Count of Rows\n",
        "census.count()"
      ],
      "execution_count": 456,
      "outputs": [
        {
          "output_type": "execute_result",
          "data": {
            "text/plain": [
              "hours_per_week_bin    48842\n",
              "occupation_bin        48842\n",
              "msr_bin               48842\n",
              "capital_gl_bin        48842\n",
              "race_sex_bin          48842\n",
              "education_num_bin     48842\n",
              "education_bin         48842\n",
              "workclass_bin         48842\n",
              "age_bin               48842\n",
              "flag                  48842\n",
              "y                     48842\n",
              "dtype: int64"
            ]
          },
          "metadata": {
            "tags": []
          },
          "execution_count": 456
        }
      ]
    },
    {
      "cell_type": "code",
      "metadata": {
        "colab": {
          "base_uri": "https://localhost:8080/"
        },
        "id": "9k2gNoTO2-4W",
        "outputId": "fa6d5ce3-8adf-4069-b78f-073bfa7703d0"
      },
      "source": [
        "# Data type\n",
        "census.info()"
      ],
      "execution_count": 457,
      "outputs": [
        {
          "output_type": "stream",
          "text": [
            "<class 'pandas.core.frame.DataFrame'>\n",
            "RangeIndex: 48842 entries, 0 to 48841\n",
            "Data columns (total 11 columns):\n",
            " #   Column              Non-Null Count  Dtype \n",
            "---  ------              --------------  ----- \n",
            " 0   hours_per_week_bin  48842 non-null  object\n",
            " 1   occupation_bin      48842 non-null  object\n",
            " 2   msr_bin             48842 non-null  object\n",
            " 3   capital_gl_bin      48842 non-null  object\n",
            " 4   race_sex_bin        48842 non-null  object\n",
            " 5   education_num_bin   48842 non-null  object\n",
            " 6   education_bin       48842 non-null  object\n",
            " 7   workclass_bin       48842 non-null  object\n",
            " 8   age_bin             48842 non-null  object\n",
            " 9   flag                48842 non-null  object\n",
            " 10  y                   48842 non-null  int64 \n",
            "dtypes: int64(1), object(10)\n",
            "memory usage: 4.1+ MB\n"
          ],
          "name": "stdout"
        }
      ]
    },
    {
      "cell_type": "code",
      "metadata": {
        "colab": {
          "base_uri": "https://localhost:8080/"
        },
        "id": "GnAQ0JMg3OIQ",
        "outputId": "ea72e71b-a45c-4afc-c989-a7f065cfc079"
      },
      "source": [
        "# Check for duplicate records:\n",
        "census.duplicated().sum()"
      ],
      "execution_count": 458,
      "outputs": [
        {
          "output_type": "execute_result",
          "data": {
            "text/plain": [
              "40012"
            ]
          },
          "metadata": {
            "tags": []
          },
          "execution_count": 458
        }
      ]
    },
    {
      "cell_type": "code",
      "metadata": {
        "colab": {
          "base_uri": "https://localhost:8080/"
        },
        "id": "zBh6-ktO3Szs",
        "outputId": "63a7a049-b2be-407b-b5a7-5d804a998592"
      },
      "source": [
        "#Cheking for Null Values\n",
        "pd.isnull(census).sum()"
      ],
      "execution_count": 459,
      "outputs": [
        {
          "output_type": "execute_result",
          "data": {
            "text/plain": [
              "hours_per_week_bin    0\n",
              "occupation_bin        0\n",
              "msr_bin               0\n",
              "capital_gl_bin        0\n",
              "race_sex_bin          0\n",
              "education_num_bin     0\n",
              "education_bin         0\n",
              "workclass_bin         0\n",
              "age_bin               0\n",
              "flag                  0\n",
              "y                     0\n",
              "dtype: int64"
            ]
          },
          "metadata": {
            "tags": []
          },
          "execution_count": 459
        }
      ]
    },
    {
      "cell_type": "markdown",
      "metadata": {
        "id": "dMiaiN6rTMBi"
      },
      "source": [
        "##V. Data Processing\n",
        "Splitting"
      ]
    },
    {
      "cell_type": "code",
      "metadata": {
        "id": "djdgj3q14IzJ"
      },
      "source": [
        "#Hours Per Week \n",
        "hpw = census[\"hours_per_week_bin\"].str.split(\". \", n = 1, expand = True)\n",
        "census[\"Hours Per Week\"]=hpw[1]\n",
        "\n",
        "#Occupation\n",
        "occupation =census[\"occupation_bin\"].str.split(\". \",n=1, expand =True)\n",
        "census[\"Occupation\"]=occupation[1]\n",
        "\n",
        "#Marital Status\n",
        "msr = census[\"msr_bin\"].str.split(\". \",n=1, expand=True)\n",
        "census[\"Marital Status\"]=msr[1]\n",
        "\n",
        "#Gapital Gain/Loss\n",
        "capgl = census[\"capital_gl_bin\"].str.split(\". \",n=1, expand=True)\n",
        "census[\"Capital Gain/Loss\"]=capgl[1]\n",
        "\n",
        "#Race and Sex\n",
        "race_sex = census[\"race_sex_bin\"].str.split(\". \",n=1, expand=True)\n",
        "census[\"Race Sex\"]=race_sex[1]\n",
        "\n",
        "#Education\n",
        "education = census[\"education_bin\"].str.split(\". \",n=1, expand=True)\n",
        "census[\"Education\"]=education[1]\n",
        "\n",
        "#Age\n",
        "age = census[\"age_bin\"].str.split(\". \",n=1, expand=True)\n",
        "census[\"Age\"]=age[1]"
      ],
      "execution_count": 460,
      "outputs": []
    },
    {
      "cell_type": "markdown",
      "metadata": {
        "id": "PHO0fGBoX23m"
      },
      "source": [
        "Post Processing (DataFrame Head)"
      ]
    },
    {
      "cell_type": "code",
      "metadata": {
        "colab": {
          "base_uri": "https://localhost:8080/",
          "height": 496
        },
        "id": "1fGOmJ97XxS-",
        "outputId": "c5c18ab9-edb6-489e-d9ce-9dbbf253e5ee"
      },
      "source": [
        "census.head()"
      ],
      "execution_count": 461,
      "outputs": [
        {
          "output_type": "execute_result",
          "data": {
            "text/html": [
              "<div>\n",
              "<style scoped>\n",
              "    .dataframe tbody tr th:only-of-type {\n",
              "        vertical-align: middle;\n",
              "    }\n",
              "\n",
              "    .dataframe tbody tr th {\n",
              "        vertical-align: top;\n",
              "    }\n",
              "\n",
              "    .dataframe thead th {\n",
              "        text-align: right;\n",
              "    }\n",
              "</style>\n",
              "<table border=\"1\" class=\"dataframe\">\n",
              "  <thead>\n",
              "    <tr style=\"text-align: right;\">\n",
              "      <th></th>\n",
              "      <th>hours_per_week_bin</th>\n",
              "      <th>occupation_bin</th>\n",
              "      <th>msr_bin</th>\n",
              "      <th>capital_gl_bin</th>\n",
              "      <th>race_sex_bin</th>\n",
              "      <th>education_num_bin</th>\n",
              "      <th>education_bin</th>\n",
              "      <th>workclass_bin</th>\n",
              "      <th>age_bin</th>\n",
              "      <th>flag</th>\n",
              "      <th>y</th>\n",
              "      <th>Hours Per Week</th>\n",
              "      <th>Occupation</th>\n",
              "      <th>Marital Status</th>\n",
              "      <th>Capital Gain/Loss</th>\n",
              "      <th>Race Sex</th>\n",
              "      <th>Education</th>\n",
              "      <th>Age</th>\n",
              "    </tr>\n",
              "  </thead>\n",
              "  <tbody>\n",
              "    <tr>\n",
              "      <th>0</th>\n",
              "      <td>b. 31-40</td>\n",
              "      <td>b. Mid - Low</td>\n",
              "      <td>b. Mid</td>\n",
              "      <td>c. &gt; 0</td>\n",
              "      <td>c. High</td>\n",
              "      <td>c. 13</td>\n",
              "      <td>c. Bachelors</td>\n",
              "      <td>b. income</td>\n",
              "      <td>d. 36-40 &amp; 56-60</td>\n",
              "      <td>train</td>\n",
              "      <td>0</td>\n",
              "      <td>31-40</td>\n",
              "      <td>Mid - Low</td>\n",
              "      <td>Mid</td>\n",
              "      <td>&gt; 0</td>\n",
              "      <td>High</td>\n",
              "      <td>Bachelors</td>\n",
              "      <td>36-40 &amp; 56-60</td>\n",
              "    </tr>\n",
              "    <tr>\n",
              "      <th>1</th>\n",
              "      <td>a. 0-30</td>\n",
              "      <td>e. High</td>\n",
              "      <td>c. High</td>\n",
              "      <td>a. = 0</td>\n",
              "      <td>c. High</td>\n",
              "      <td>c. 13</td>\n",
              "      <td>c. Bachelors</td>\n",
              "      <td>b. income</td>\n",
              "      <td>e. 40-55</td>\n",
              "      <td>train</td>\n",
              "      <td>0</td>\n",
              "      <td>0-30</td>\n",
              "      <td>High</td>\n",
              "      <td>High</td>\n",
              "      <td>= 0</td>\n",
              "      <td>High</td>\n",
              "      <td>Bachelors</td>\n",
              "      <td>40-55</td>\n",
              "    </tr>\n",
              "    <tr>\n",
              "      <th>2</th>\n",
              "      <td>b. 31-40</td>\n",
              "      <td>a. Low</td>\n",
              "      <td>b. Mid</td>\n",
              "      <td>a. = 0</td>\n",
              "      <td>c. High</td>\n",
              "      <td>b. 9-12</td>\n",
              "      <td>b. Mid</td>\n",
              "      <td>b. income</td>\n",
              "      <td>d. 36-40 &amp; 56-60</td>\n",
              "      <td>train</td>\n",
              "      <td>0</td>\n",
              "      <td>31-40</td>\n",
              "      <td>Low</td>\n",
              "      <td>Mid</td>\n",
              "      <td>= 0</td>\n",
              "      <td>High</td>\n",
              "      <td>Mid</td>\n",
              "      <td>36-40 &amp; 56-60</td>\n",
              "    </tr>\n",
              "    <tr>\n",
              "      <th>3</th>\n",
              "      <td>b. 31-40</td>\n",
              "      <td>a. Low</td>\n",
              "      <td>c. High</td>\n",
              "      <td>a. = 0</td>\n",
              "      <td>b. Mid</td>\n",
              "      <td>a. 0-8</td>\n",
              "      <td>a. Low</td>\n",
              "      <td>b. income</td>\n",
              "      <td>e. 40-55</td>\n",
              "      <td>train</td>\n",
              "      <td>0</td>\n",
              "      <td>31-40</td>\n",
              "      <td>Low</td>\n",
              "      <td>High</td>\n",
              "      <td>= 0</td>\n",
              "      <td>Mid</td>\n",
              "      <td>Low</td>\n",
              "      <td>40-55</td>\n",
              "    </tr>\n",
              "    <tr>\n",
              "      <th>4</th>\n",
              "      <td>b. 31-40</td>\n",
              "      <td>e. High</td>\n",
              "      <td>c. High</td>\n",
              "      <td>a. = 0</td>\n",
              "      <td>a. Low</td>\n",
              "      <td>c. 13</td>\n",
              "      <td>c. Bachelors</td>\n",
              "      <td>b. income</td>\n",
              "      <td>b. 26-30 &amp; 71-100</td>\n",
              "      <td>train</td>\n",
              "      <td>0</td>\n",
              "      <td>31-40</td>\n",
              "      <td>High</td>\n",
              "      <td>High</td>\n",
              "      <td>= 0</td>\n",
              "      <td>Low</td>\n",
              "      <td>Bachelors</td>\n",
              "      <td>26-30 &amp; 71-100</td>\n",
              "    </tr>\n",
              "  </tbody>\n",
              "</table>\n",
              "</div>"
            ],
            "text/plain": [
              "  hours_per_week_bin occupation_bin  ...  Education             Age\n",
              "0           b. 31-40   b. Mid - Low  ...  Bachelors   36-40 & 56-60\n",
              "1            a. 0-30        e. High  ...  Bachelors           40-55\n",
              "2           b. 31-40         a. Low  ...        Mid   36-40 & 56-60\n",
              "3           b. 31-40         a. Low  ...        Low           40-55\n",
              "4           b. 31-40        e. High  ...  Bachelors  26-30 & 71-100\n",
              "\n",
              "[5 rows x 18 columns]"
            ]
          },
          "metadata": {
            "tags": []
          },
          "execution_count": 461
        }
      ]
    },
    {
      "cell_type": "markdown",
      "metadata": {
        "id": "in3lWewtUnDe"
      },
      "source": [
        "Removing Columns (DataFrame Head)"
      ]
    },
    {
      "cell_type": "code",
      "metadata": {
        "colab": {
          "base_uri": "https://localhost:8080/",
          "height": 204
        },
        "id": "-UHHuO_qUu4p",
        "outputId": "414a9616-46b1-469e-8e37-31f0ccdb5426"
      },
      "source": [
        "census = census.drop(['hours_per_week_bin','occupation_bin','msr_bin','capital_gl_bin','education_bin','age_bin','race_sex_bin','workclass_bin','education_num_bin'], axis=1)\n",
        "census.head()"
      ],
      "execution_count": 462,
      "outputs": [
        {
          "output_type": "execute_result",
          "data": {
            "text/html": [
              "<div>\n",
              "<style scoped>\n",
              "    .dataframe tbody tr th:only-of-type {\n",
              "        vertical-align: middle;\n",
              "    }\n",
              "\n",
              "    .dataframe tbody tr th {\n",
              "        vertical-align: top;\n",
              "    }\n",
              "\n",
              "    .dataframe thead th {\n",
              "        text-align: right;\n",
              "    }\n",
              "</style>\n",
              "<table border=\"1\" class=\"dataframe\">\n",
              "  <thead>\n",
              "    <tr style=\"text-align: right;\">\n",
              "      <th></th>\n",
              "      <th>flag</th>\n",
              "      <th>y</th>\n",
              "      <th>Hours Per Week</th>\n",
              "      <th>Occupation</th>\n",
              "      <th>Marital Status</th>\n",
              "      <th>Capital Gain/Loss</th>\n",
              "      <th>Race Sex</th>\n",
              "      <th>Education</th>\n",
              "      <th>Age</th>\n",
              "    </tr>\n",
              "  </thead>\n",
              "  <tbody>\n",
              "    <tr>\n",
              "      <th>0</th>\n",
              "      <td>train</td>\n",
              "      <td>0</td>\n",
              "      <td>31-40</td>\n",
              "      <td>Mid - Low</td>\n",
              "      <td>Mid</td>\n",
              "      <td>&gt; 0</td>\n",
              "      <td>High</td>\n",
              "      <td>Bachelors</td>\n",
              "      <td>36-40 &amp; 56-60</td>\n",
              "    </tr>\n",
              "    <tr>\n",
              "      <th>1</th>\n",
              "      <td>train</td>\n",
              "      <td>0</td>\n",
              "      <td>0-30</td>\n",
              "      <td>High</td>\n",
              "      <td>High</td>\n",
              "      <td>= 0</td>\n",
              "      <td>High</td>\n",
              "      <td>Bachelors</td>\n",
              "      <td>40-55</td>\n",
              "    </tr>\n",
              "    <tr>\n",
              "      <th>2</th>\n",
              "      <td>train</td>\n",
              "      <td>0</td>\n",
              "      <td>31-40</td>\n",
              "      <td>Low</td>\n",
              "      <td>Mid</td>\n",
              "      <td>= 0</td>\n",
              "      <td>High</td>\n",
              "      <td>Mid</td>\n",
              "      <td>36-40 &amp; 56-60</td>\n",
              "    </tr>\n",
              "    <tr>\n",
              "      <th>3</th>\n",
              "      <td>train</td>\n",
              "      <td>0</td>\n",
              "      <td>31-40</td>\n",
              "      <td>Low</td>\n",
              "      <td>High</td>\n",
              "      <td>= 0</td>\n",
              "      <td>Mid</td>\n",
              "      <td>Low</td>\n",
              "      <td>40-55</td>\n",
              "    </tr>\n",
              "    <tr>\n",
              "      <th>4</th>\n",
              "      <td>train</td>\n",
              "      <td>0</td>\n",
              "      <td>31-40</td>\n",
              "      <td>High</td>\n",
              "      <td>High</td>\n",
              "      <td>= 0</td>\n",
              "      <td>Low</td>\n",
              "      <td>Bachelors</td>\n",
              "      <td>26-30 &amp; 71-100</td>\n",
              "    </tr>\n",
              "  </tbody>\n",
              "</table>\n",
              "</div>"
            ],
            "text/plain": [
              "    flag  y Hours Per Week  ... Race Sex  Education             Age\n",
              "0  train  0          31-40  ...     High  Bachelors   36-40 & 56-60\n",
              "1  train  0           0-30  ...     High  Bachelors           40-55\n",
              "2  train  0          31-40  ...     High        Mid   36-40 & 56-60\n",
              "3  train  0          31-40  ...      Mid        Low           40-55\n",
              "4  train  0          31-40  ...      Low  Bachelors  26-30 & 71-100\n",
              "\n",
              "[5 rows x 9 columns]"
            ]
          },
          "metadata": {
            "tags": []
          },
          "execution_count": 462
        }
      ]
    },
    {
      "cell_type": "markdown",
      "metadata": {
        "id": "O_hIhOtV8y8y"
      },
      "source": [
        "##VI. Generating Dummy Variables"
      ]
    },
    {
      "cell_type": "code",
      "metadata": {
        "id": "aLi4fblb5YKK"
      },
      "source": [
        "\n",
        "census = pd.get_dummies(census, columns=[\"Hours Per Week\", \"Occupation\", \"Marital Status\", \"Capital Gain/Loss\", \"Race Sex\", \"Education\", \"Age\"],drop_first=True)"
      ],
      "execution_count": 463,
      "outputs": []
    },
    {
      "cell_type": "code",
      "metadata": {
        "colab": {
          "base_uri": "https://localhost:8080/",
          "height": 292
        },
        "id": "hx6U9CqlBiyQ",
        "outputId": "44c41fdf-c3ff-4a6e-f0f6-2c8f5ece1697"
      },
      "source": [
        "census.head()"
      ],
      "execution_count": 464,
      "outputs": [
        {
          "output_type": "execute_result",
          "data": {
            "text/html": [
              "<div>\n",
              "<style scoped>\n",
              "    .dataframe tbody tr th:only-of-type {\n",
              "        vertical-align: middle;\n",
              "    }\n",
              "\n",
              "    .dataframe tbody tr th {\n",
              "        vertical-align: top;\n",
              "    }\n",
              "\n",
              "    .dataframe thead th {\n",
              "        text-align: right;\n",
              "    }\n",
              "</style>\n",
              "<table border=\"1\" class=\"dataframe\">\n",
              "  <thead>\n",
              "    <tr style=\"text-align: right;\">\n",
              "      <th></th>\n",
              "      <th>flag</th>\n",
              "      <th>y</th>\n",
              "      <th>Hours Per Week_31-40</th>\n",
              "      <th>Hours Per Week_41-50 &amp; 61-70</th>\n",
              "      <th>Hours Per Week_51-60</th>\n",
              "      <th>Hours Per Week_71-100</th>\n",
              "      <th>Occupation_Low</th>\n",
              "      <th>Occupation_Mid - High</th>\n",
              "      <th>Occupation_Mid - Low</th>\n",
              "      <th>Occupation_Mid - Mid</th>\n",
              "      <th>Marital Status_Low</th>\n",
              "      <th>Marital Status_Mid</th>\n",
              "      <th>Capital Gain/Loss_= 0</th>\n",
              "      <th>Capital Gain/Loss_&gt; 0</th>\n",
              "      <th>Race Sex_Low</th>\n",
              "      <th>Race Sex_Mid</th>\n",
              "      <th>Education_High</th>\n",
              "      <th>Education_Low</th>\n",
              "      <th>Education_Masters</th>\n",
              "      <th>Education_Mid</th>\n",
              "      <th>Age_26-30 &amp; 71-100</th>\n",
              "      <th>Age_31-35 &amp; 61-70</th>\n",
              "      <th>Age_36-40 &amp; 56-60</th>\n",
              "      <th>Age_40-55</th>\n",
              "    </tr>\n",
              "  </thead>\n",
              "  <tbody>\n",
              "    <tr>\n",
              "      <th>0</th>\n",
              "      <td>train</td>\n",
              "      <td>0</td>\n",
              "      <td>1</td>\n",
              "      <td>0</td>\n",
              "      <td>0</td>\n",
              "      <td>0</td>\n",
              "      <td>0</td>\n",
              "      <td>0</td>\n",
              "      <td>1</td>\n",
              "      <td>0</td>\n",
              "      <td>0</td>\n",
              "      <td>1</td>\n",
              "      <td>0</td>\n",
              "      <td>1</td>\n",
              "      <td>0</td>\n",
              "      <td>0</td>\n",
              "      <td>0</td>\n",
              "      <td>0</td>\n",
              "      <td>0</td>\n",
              "      <td>0</td>\n",
              "      <td>0</td>\n",
              "      <td>0</td>\n",
              "      <td>1</td>\n",
              "      <td>0</td>\n",
              "    </tr>\n",
              "    <tr>\n",
              "      <th>1</th>\n",
              "      <td>train</td>\n",
              "      <td>0</td>\n",
              "      <td>0</td>\n",
              "      <td>0</td>\n",
              "      <td>0</td>\n",
              "      <td>0</td>\n",
              "      <td>0</td>\n",
              "      <td>0</td>\n",
              "      <td>0</td>\n",
              "      <td>0</td>\n",
              "      <td>0</td>\n",
              "      <td>0</td>\n",
              "      <td>1</td>\n",
              "      <td>0</td>\n",
              "      <td>0</td>\n",
              "      <td>0</td>\n",
              "      <td>0</td>\n",
              "      <td>0</td>\n",
              "      <td>0</td>\n",
              "      <td>0</td>\n",
              "      <td>0</td>\n",
              "      <td>0</td>\n",
              "      <td>0</td>\n",
              "      <td>1</td>\n",
              "    </tr>\n",
              "    <tr>\n",
              "      <th>2</th>\n",
              "      <td>train</td>\n",
              "      <td>0</td>\n",
              "      <td>1</td>\n",
              "      <td>0</td>\n",
              "      <td>0</td>\n",
              "      <td>0</td>\n",
              "      <td>1</td>\n",
              "      <td>0</td>\n",
              "      <td>0</td>\n",
              "      <td>0</td>\n",
              "      <td>0</td>\n",
              "      <td>1</td>\n",
              "      <td>1</td>\n",
              "      <td>0</td>\n",
              "      <td>0</td>\n",
              "      <td>0</td>\n",
              "      <td>0</td>\n",
              "      <td>0</td>\n",
              "      <td>0</td>\n",
              "      <td>1</td>\n",
              "      <td>0</td>\n",
              "      <td>0</td>\n",
              "      <td>1</td>\n",
              "      <td>0</td>\n",
              "    </tr>\n",
              "    <tr>\n",
              "      <th>3</th>\n",
              "      <td>train</td>\n",
              "      <td>0</td>\n",
              "      <td>1</td>\n",
              "      <td>0</td>\n",
              "      <td>0</td>\n",
              "      <td>0</td>\n",
              "      <td>1</td>\n",
              "      <td>0</td>\n",
              "      <td>0</td>\n",
              "      <td>0</td>\n",
              "      <td>0</td>\n",
              "      <td>0</td>\n",
              "      <td>1</td>\n",
              "      <td>0</td>\n",
              "      <td>0</td>\n",
              "      <td>1</td>\n",
              "      <td>0</td>\n",
              "      <td>1</td>\n",
              "      <td>0</td>\n",
              "      <td>0</td>\n",
              "      <td>0</td>\n",
              "      <td>0</td>\n",
              "      <td>0</td>\n",
              "      <td>1</td>\n",
              "    </tr>\n",
              "    <tr>\n",
              "      <th>4</th>\n",
              "      <td>train</td>\n",
              "      <td>0</td>\n",
              "      <td>1</td>\n",
              "      <td>0</td>\n",
              "      <td>0</td>\n",
              "      <td>0</td>\n",
              "      <td>0</td>\n",
              "      <td>0</td>\n",
              "      <td>0</td>\n",
              "      <td>0</td>\n",
              "      <td>0</td>\n",
              "      <td>0</td>\n",
              "      <td>1</td>\n",
              "      <td>0</td>\n",
              "      <td>1</td>\n",
              "      <td>0</td>\n",
              "      <td>0</td>\n",
              "      <td>0</td>\n",
              "      <td>0</td>\n",
              "      <td>0</td>\n",
              "      <td>1</td>\n",
              "      <td>0</td>\n",
              "      <td>0</td>\n",
              "      <td>0</td>\n",
              "    </tr>\n",
              "  </tbody>\n",
              "</table>\n",
              "</div>"
            ],
            "text/plain": [
              "    flag  y  ...  Age_36-40 & 56-60  Age_40-55\n",
              "0  train  0  ...                  1          0\n",
              "1  train  0  ...                  0          1\n",
              "2  train  0  ...                  1          0\n",
              "3  train  0  ...                  0          1\n",
              "4  train  0  ...                  0          0\n",
              "\n",
              "[5 rows x 24 columns]"
            ]
          },
          "metadata": {
            "tags": []
          },
          "execution_count": 464
        }
      ]
    },
    {
      "cell_type": "markdown",
      "metadata": {
        "id": "q5YlyiDcDCUf"
      },
      "source": [
        "##VII. Renaming Columns for XGBOOST Model"
      ]
    },
    {
      "cell_type": "code",
      "metadata": {
        "id": "ZKDaj_gFDGqi"
      },
      "source": [
        "census.columns = census.columns.str.replace(\">\",\"Greater\")\n",
        "census.columns = census.columns.str.replace(\"<\",\"Less\")\n",
        "census.columns = census.columns.str.replace(\"&\",\"And\")"
      ],
      "execution_count": 465,
      "outputs": []
    },
    {
      "cell_type": "markdown",
      "metadata": {
        "id": "kR-e0nYhazV-"
      },
      "source": [
        "## VIII. Splitting Dataset into Train and Test"
      ]
    },
    {
      "cell_type": "markdown",
      "metadata": {
        "id": "FVI8vn1CbMM2"
      },
      "source": [
        "Train Dataset"
      ]
    },
    {
      "cell_type": "code",
      "metadata": {
        "id": "OOCLBib2bJQN"
      },
      "source": [
        "#Rows where flag is train\n",
        "train_census = census.loc[census[\"flag\"]==\"train\"]\n",
        "trainx = train_census.drop([\"y\",\"flag\"], axis=1)\n",
        "\n",
        "trainx.head()\n",
        "trainy = train_census[\"y\"]"
      ],
      "execution_count": 466,
      "outputs": []
    },
    {
      "cell_type": "markdown",
      "metadata": {
        "id": "kJP13OFCcgJ3"
      },
      "source": [
        "Test Dataset"
      ]
    },
    {
      "cell_type": "code",
      "metadata": {
        "id": "RmrPVu34cioH"
      },
      "source": [
        "#Rows where flag is test\n",
        "test_census = census.loc[census[\"flag\"]==\"test\"]\n",
        "testx = test_census.drop([\"y\",\"flag\"], axis=1)\n",
        "\n",
        "testx.head()\n",
        "testy = test_census[\"y\"]"
      ],
      "execution_count": 467,
      "outputs": []
    },
    {
      "cell_type": "markdown",
      "metadata": {
        "id": "Dn3LkNzYdKSb"
      },
      "source": [
        "Columns Except Outcome Column"
      ]
    },
    {
      "cell_type": "code",
      "metadata": {
        "id": "OG4qn59teNVd"
      },
      "source": [
        "census1 = census.drop([\"y\",\"flag\"], axis=1)"
      ],
      "execution_count": 468,
      "outputs": []
    },
    {
      "cell_type": "markdown",
      "metadata": {
        "id": "VwYO4vykeJT3"
      },
      "source": [
        " Creating Income Column"
      ]
    },
    {
      "cell_type": "code",
      "metadata": {
        "id": "Lo03Oj_Da6h0"
      },
      "source": [
        "income_census = census[\"y\"]"
      ],
      "execution_count": 469,
      "outputs": []
    },
    {
      "cell_type": "markdown",
      "metadata": {
        "id": "EtFLWoA6eTSu"
      },
      "source": [
        "Income Greater than $50,000"
      ]
    },
    {
      "cell_type": "code",
      "metadata": {
        "colab": {
          "base_uri": "https://localhost:8080/"
        },
        "id": "YK-u4F7wddi4",
        "outputId": "f12417c4-1617-4526-b865-cb9719ee6726"
      },
      "source": [
        "print(\"Income Greater Than $50,000: (%d/%d) Or %.2f%%\" % (np.sum(income_census), len(income_census), 100*float(np.sum(income_census)) / len(income_census)))"
      ],
      "execution_count": 470,
      "outputs": [
        {
          "output_type": "stream",
          "text": [
            "Income Greater Than $50,000: (11687/48842) Or 23.93%\n"
          ],
          "name": "stdout"
        }
      ]
    },
    {
      "cell_type": "markdown",
      "metadata": {
        "id": "NYEyk56IfpK4"
      },
      "source": [
        "##IX. Optimal Value of a Key Hyper-Parameter"
      ]
    },
    {
      "cell_type": "code",
      "metadata": {
        "colab": {
          "base_uri": "https://localhost:8080/",
          "height": 295
        },
        "id": "h-aTLDfDfpo-",
        "outputId": "41c567ef-a2e8-4b02-dfb0-a2a127c0982a"
      },
      "source": [
        "output = []\n",
        "max_depth = [2,4,6,8,10,12,14,16,18,20]\n",
        "for m in max_depth:\n",
        "  model = DecisionTreeClassifier(max_depth=m, random_state=101)\n",
        "  model.fit(trainx, trainy)\n",
        "  ypredicted = model.predict(testx)\n",
        "  accuracy = np.mean(testy == ypredicted)\n",
        "  output.append(accuracy)\n",
        "plt.figure(figsize=(8,4))\n",
        "plt.ylabel(\"Accuracy\")\n",
        "plt.xlabel(\"Maximum Depth\")\n",
        "plt.title(\"Max Depth by Accuracy (Decision Tree)\")\n",
        "pd.Series(output, max_depth_options).plot(marker = \"^\", color=\"green\")\n",
        "ax = plt.gca()\n",
        "ax.set_facecolor(\"khaki\")\n",
        "plt.show()"
      ],
      "execution_count": 471,
      "outputs": [
        {
          "output_type": "display_data",
          "data": {
            "image/png": "[encoded data removed]",
            "text/plain": [
              "<Figure size 576x288 with 1 Axes>"
            ]
          },
          "metadata": {
            "tags": [],
            "needs_background": "light"
          }
        }
      ]
    },
    {
      "cell_type": "markdown",
      "metadata": {
        "id": "dV6awvxLkF-X"
      },
      "source": [
        "##X. Random Forest Model "
      ]
    },
    {
      "cell_type": "markdown",
      "metadata": {
        "id": "TPt1kbc5k6nA"
      },
      "source": [
        "Listing N_Estimator Hyper-Parameter Options"
      ]
    },
    {
      "cell_type": "code",
      "metadata": {
        "id": "CQSIxInzkxdJ",
        "colab": {
          "base_uri": "https://localhost:8080/",
          "height": 313
        },
        "outputId": "4d25d820-fa1f-4564-f040-4f87cdd9293c"
      },
      "source": [
        "output = []\n",
        "n_estimator = [50,100,150,200,250,300,350,400,450,500]\n",
        "for n in n_estimator:\n",
        "  model=RandomForestClassifier(n_estimators=n,max_features='auto', random_state=101)\n",
        "  model.fit(trainx, trainy)\n",
        "  ypredicted = model.predict(testx)\n",
        "  accuracy = np.mean(testy == ypredicted)\n",
        "  output.append(accuracy)\n",
        "#(Random Forest Model With Various N_Estimator Hyper-Parameter Options)\n",
        "plt.figure(figsize=(8,4))\n",
        "pd.Series(output,n_estimator).plot(marker=\"D\",color=\"dodgerblue\")\n",
        "ax = plt.gca()\n",
        "ax.set_facecolor(\"wheat\")\n",
        "plt.title(\"Random Forest Graph\")\n",
        "plt.ylabel(\"Accuracy\")\n",
        "plt.xlabel(\"N_Estimator Hyper-Parameter Options\")"
      ],
      "execution_count": 472,
      "outputs": [
        {
          "output_type": "execute_result",
          "data": {
            "text/plain": [
              "Text(0.5, 0, 'N_Estimator Hyper-Parameter Options')"
            ]
          },
          "metadata": {
            "tags": []
          },
          "execution_count": 472
        },
        {
          "output_type": "display_data",
          "data": {
            "image/png": "[encoded data removed]",
            "text/plain": [
              "<Figure size 576x288 with 1 Axes>"
            ]
          },
          "metadata": {
            "tags": [],
            "needs_background": "light"
          }
        }
      ]
    },
    {
      "cell_type": "markdown",
      "metadata": {
        "id": "htzhapZim9XF"
      },
      "source": [
        "##XI. Ada Boost Model"
      ]
    },
    {
      "cell_type": "code",
      "metadata": {
        "id": "lpiQmiNfpBji",
        "colab": {
          "base_uri": "https://localhost:8080/",
          "height": 313
        },
        "outputId": "1f7b8808-f8d5-4390-a97a-6f7a26eed3bf"
      },
      "source": [
        "output = []\n",
        "n_estimator = [50,100,150,200,250,300,350,400,450,500]\n",
        "for n in n_estimator:\n",
        "  model_ada=AdaBoostClassifier(n_estimators=n, random_state=101)\n",
        "  model_ada.fit(trainx, trainy)\n",
        "  ypredicted = model_ada.predict(testx)\n",
        "  accuracy = np.mean(testy == ypredicted)\n",
        "  output.append(accuracy)\n",
        "#(AdaBoost Model With Various N_Estimator Hyper-Parameter Options)\n",
        "plt.figure(figsize=(8,4))\n",
        "pd.Series(output,n_estimator).plot(marker=\"h\",color=\"darkorange\")\n",
        "ax = plt.gca()\n",
        "ax.set_facecolor(\"slategrey\")\n",
        "plt.title(\"AdaBoost Model Graph\")\n",
        "plt.ylabel(\"Accuracy\")\n",
        "plt.xlabel(\"N_Estimator Hyper-Parameter Options\")"
      ],
      "execution_count": 473,
      "outputs": [
        {
          "output_type": "execute_result",
          "data": {
            "text/plain": [
              "Text(0.5, 0, 'N_Estimator Hyper-Parameter Options')"
            ]
          },
          "metadata": {
            "tags": []
          },
          "execution_count": 473
        },
        {
          "output_type": "display_data",
          "data": {
            "image/png": "[encoded data removed]",
            "text/plain": [
              "<Figure size 576x288 with 1 Axes>"
            ]
          },
          "metadata": {
            "tags": [],
            "needs_background": "light"
          }
        }
      ]
    },
    {
      "cell_type": "markdown",
      "metadata": {
        "id": "v4Du2kRdwj5k"
      },
      "source": [
        "##XII. Gradient Boost Model"
      ]
    },
    {
      "cell_type": "code",
      "metadata": {
        "colab": {
          "base_uri": "https://localhost:8080/",
          "height": 313
        },
        "id": "lWYK7XnOxYSe",
        "outputId": "5eea3de8-525d-4b8f-e72a-7ffb33fedd20"
      },
      "source": [
        "output = []\n",
        "n_estimator = [50,100,150,200,250,300,350,400,450,500]\n",
        "for n in n_estimator:\n",
        "  model_gradient = GradientBoostingClassifier(n_estimators=n,learning_rate=0.1,max_depth=2,random_state=0)\n",
        "  model_gradient.fit(trainx, trainy)\n",
        "  ypredicted = model_gradient.predict(testx)\n",
        "  accuracy = np.mean(testy == ypredicted)\n",
        "  output.append(accuracy)\n",
        "#(Gradient Boost Model With Various N_Estimator Hyper-Parameter Options)\n",
        "plt.figure(figsize=(8,4))\n",
        "pd.Series(output,n_estimator).plot(marker=\"8\",color=\"springgreen\")\n",
        "ax = plt.gca()\n",
        "ax.set_facecolor(\"slategrey\")\n",
        "plt.title(\"Gradient Model Graph\")\n",
        "plt.ylabel(\"Accuracy\")\n",
        "plt.xlabel(\"N_Estimator Hyper-Parameter Options\")"
      ],
      "execution_count": 474,
      "outputs": [
        {
          "output_type": "execute_result",
          "data": {
            "text/plain": [
              "Text(0.5, 0, 'N_Estimator Hyper-Parameter Options')"
            ]
          },
          "metadata": {
            "tags": []
          },
          "execution_count": 474
        },
        {
          "output_type": "display_data",
          "data": {
            "image/png": "[encoded data removed]",
            "text/plain": [
              "<Figure size 576x288 with 1 Axes>"
            ]
          },
          "metadata": {
            "tags": [],
            "needs_background": "light"
          }
        }
      ]
    },
    {
      "cell_type": "markdown",
      "metadata": {
        "id": "eLAPVCF2yZxR"
      },
      "source": [
        "##XIII. XG Boost Model"
      ]
    },
    {
      "cell_type": "code",
      "metadata": {
        "colab": {
          "base_uri": "https://localhost:8080/",
          "height": 313
        },
        "id": "CaqGe8_vyfwV",
        "outputId": "acd08891-7d5d-4346-a81f-9588e335e057"
      },
      "source": [
        "output = []\n",
        "n_estimator = [50,100,150,200,250,300,350,400,450,500]\n",
        "for n in n_estimator:\n",
        "  model_xgboost = XGBClassifier(n_estimators = n, random_state = 101)\n",
        "  model_xgboost.fit(trainx, trainy)\n",
        "  ypredicted = model_xgboost.predict(testx)\n",
        "  accuracy = np.mean(testy == ypredicted)\n",
        "  output.append(accuracy)\n",
        "#(XG Boost Model With Various N_Estimator Hyper-Parameter Options)\n",
        "plt.figure(figsize=(8,4))\n",
        "pd.Series(output,n_estimator).plot(marker=\"x\",color=\"khaki\")\n",
        "ax = plt.gca()\n",
        "ax.set_facecolor(\"midnightblue\")\n",
        "plt.title(\"XG Boost Model Graph\")\n",
        "plt.ylabel(\"Accuracy\")\n",
        "plt.xlabel(\"N_Estimator Hyper-Parameter Options\")"
      ],
      "execution_count": 475,
      "outputs": [
        {
          "output_type": "execute_result",
          "data": {
            "text/plain": [
              "Text(0.5, 0, 'N_Estimator Hyper-Parameter Options')"
            ]
          },
          "metadata": {
            "tags": []
          },
          "execution_count": 475
        },
        {
          "output_type": "display_data",
          "data": {
            "image/png": "[encoded data removed]",
            "text/plain": [
              "<Figure size 576x288 with 1 Axes>"
            ]
          },
          "metadata": {
            "tags": [],
            "needs_background": "light"
          }
        }
      ]
    },
    {
      "cell_type": "markdown",
      "metadata": {
        "id": "ioZqjkgs0UdD"
      },
      "source": [
        "##XIV. Comparing Performance Across "
      ]
    },
    {
      "cell_type": "markdown",
      "metadata": {
        "id": "ycOSGM8X3YCe"
      },
      "source": [
        "Parameter of N_estimator, Random_state Constant Across Models"
      ]
    },
    {
      "cell_type": "markdown",
      "metadata": {
        "id": "9SGz07YZ23QU"
      },
      "source": [
        "a. Random Forest Model"
      ]
    },
    {
      "cell_type": "code",
      "metadata": {
        "id": "t8VM9i2T1C3G"
      },
      "source": [
        "Random_state=101\n",
        "n = 500 \n",
        "random_forest_model = RandomForestClassifier(n_estimators=n,max_features='auto', random_state=Random_state)\n",
        "random_forest_model.fit(trainx,trainy)\n",
        "predictedy = random_forest_model.predict(testx)\n",
        "random_forest_auc = roc_auc_score(testy,predictedy)\n",
        "random_forest_accuracy = np.mean(testy==predictedy)"
      ],
      "execution_count": 476,
      "outputs": []
    },
    {
      "cell_type": "markdown",
      "metadata": {
        "id": "UBZZlYzc290f"
      },
      "source": [
        "b. Ada Boost Model"
      ]
    },
    {
      "cell_type": "code",
      "metadata": {
        "id": "L7jCNuXC29DD"
      },
      "source": [
        "ada_boost_model = AdaBoostClassifier(n_estimators=n,random_state=Random_state)\n",
        "ada_boost_model.fit(trainx, trainy)\n",
        "predictedy = ada_boost_model.predict(testx)\n",
        "ada_boost_auc = roc_auc_score(testy,predictedy)\n",
        "ada_boost_accuracy = np.mean(testy==predictedy)"
      ],
      "execution_count": 477,
      "outputs": []
    },
    {
      "cell_type": "markdown",
      "metadata": {
        "id": "DAKmNGu33E0o"
      },
      "source": [
        "c. Gradient Boost Model"
      ]
    },
    {
      "cell_type": "code",
      "metadata": {
        "id": "QRWiyt023I0p"
      },
      "source": [
        "gradient_boost_model=GradientBoostingClassifier(n_estimators=n,learning_rate=0.1,max_depth=2,random_state=0)\n",
        "gradient_boost_model.fit(trainx, trainy)\n",
        "predictedy = gradient_boost_model.predict(testx)\n",
        "gradient_boost_auc = roc_auc_score(testy,predictedy)\n",
        "gradient_boost_accuracy = np.mean(testy == predictedy)"
      ],
      "execution_count": 478,
      "outputs": []
    },
    {
      "cell_type": "markdown",
      "metadata": {
        "id": "bEvHWqTY3JQn"
      },
      "source": [
        "d. XG Boost Model"
      ]
    },
    {
      "cell_type": "code",
      "metadata": {
        "id": "6q9O0nLB3LnC"
      },
      "source": [
        "xgboost_model = XGBClassifier(n_estimators=n, random_state=Random_state)\n",
        "xgboost_model.fit(trainx, trainy)\n",
        "y_pred = xgboost_model.predict(testx)\n",
        "xgboost_auc = roc_auc_score(testy, predictedy)\n",
        "xgboost_accuracy = np.mean(testy == predictedy)"
      ],
      "execution_count": 479,
      "outputs": []
    },
    {
      "cell_type": "markdown",
      "metadata": {
        "id": "z4loAI9T6GCX"
      },
      "source": [
        "##XV. Displaying Reults/Output in DataFrame"
      ]
    },
    {
      "cell_type": "code",
      "metadata": {
        "colab": {
          "base_uri": "https://localhost:8080/",
          "height": 173
        },
        "id": "a0ZaP9EG6AcW",
        "outputId": "d4f57ff4-41c3-40d7-c089-2da17e8d4cc3"
      },
      "source": [
        "Moldel_Comparisons = pd.DataFrame({\"Random Forest Model\": [random_forest_auc, random_forest_accuracy, n, Random_state],\n",
        "                             \"Ada Boost Model\": [ada_boost_auc, ada_boost_accuracy, n, Random_state], \n",
        "                             \"Gradient Boost Model\": [gradient_boost_auc, gradient_boost_accuracy, n, Random_state],\n",
        "                             \"XG Boost Model\": [xgboost_auc, xgboost_accuracy, n, Random_state]}\n",
        "                            ,index=[\"AUC\",\"Accuracy\",\"N Estimator\",\"Random State\"])\n",
        "Moldel_Comparisons.round(3)"
      ],
      "execution_count": 480,
      "outputs": [
        {
          "output_type": "execute_result",
          "data": {
            "text/html": [
              "<div>\n",
              "<style scoped>\n",
              "    .dataframe tbody tr th:only-of-type {\n",
              "        vertical-align: middle;\n",
              "    }\n",
              "\n",
              "    .dataframe tbody tr th {\n",
              "        vertical-align: top;\n",
              "    }\n",
              "\n",
              "    .dataframe thead th {\n",
              "        text-align: right;\n",
              "    }\n",
              "</style>\n",
              "<table border=\"1\" class=\"dataframe\">\n",
              "  <thead>\n",
              "    <tr style=\"text-align: right;\">\n",
              "      <th></th>\n",
              "      <th>Random Forest Model</th>\n",
              "      <th>Ada Boost Model</th>\n",
              "      <th>Gradient Boost Model</th>\n",
              "      <th>XG Boost Model</th>\n",
              "    </tr>\n",
              "  </thead>\n",
              "  <tbody>\n",
              "    <tr>\n",
              "      <th>AUC</th>\n",
              "      <td>0.747</td>\n",
              "      <td>0.747</td>\n",
              "      <td>0.751</td>\n",
              "      <td>0.751</td>\n",
              "    </tr>\n",
              "    <tr>\n",
              "      <th>Accuracy</th>\n",
              "      <td>0.839</td>\n",
              "      <td>0.845</td>\n",
              "      <td>0.845</td>\n",
              "      <td>0.845</td>\n",
              "    </tr>\n",
              "    <tr>\n",
              "      <th>N Estimator</th>\n",
              "      <td>500.000</td>\n",
              "      <td>500.000</td>\n",
              "      <td>500.000</td>\n",
              "      <td>500.000</td>\n",
              "    </tr>\n",
              "    <tr>\n",
              "      <th>Random State</th>\n",
              "      <td>101.000</td>\n",
              "      <td>101.000</td>\n",
              "      <td>101.000</td>\n",
              "      <td>101.000</td>\n",
              "    </tr>\n",
              "  </tbody>\n",
              "</table>\n",
              "</div>"
            ],
            "text/plain": [
              "              Random Forest Model  ...  XG Boost Model\n",
              "AUC                         0.747  ...           0.751\n",
              "Accuracy                    0.839  ...           0.845\n",
              "N Estimator               500.000  ...         500.000\n",
              "Random State              101.000  ...         101.000\n",
              "\n",
              "[4 rows x 4 columns]"
            ]
          },
          "metadata": {
            "tags": []
          },
          "execution_count": 480
        }
      ]
    }
  ]
}